{
 "cells": [
  {
   "cell_type": "markdown",
   "metadata": {},
   "source": [
    "# Operador ternario"
   ]
  },
  {
   "cell_type": "markdown",
   "metadata": {},
   "source": [
    "Un operador ternario es un atajo para elaborar una expresión condicional en la que se asigna uno u otro valor si la condición es verdadera (`True`) o falsa (`False`). Fue añadida a Python 2.5, véase el [correo electrónico de Guido van Rossum](https://mail.python.org/pipermail/python-dev/2005-September/056846.html) (en inglés) a la lista de correo `python-dev` en 2005."
   ]
  },
  {
   "cell_type": "markdown",
   "metadata": {},
   "source": [
    "La sintaxis para un operador ternario es:\n",
    "```python\n",
    "x = A if C else B\n",
    "```\n",
    "\n",
    "Literalmente, podría ser:\n",
    "\n",
    "`x` será `A` si `C` es cierto, de lo contrario `x` será `B`."
   ]
  },
  {
   "cell_type": "markdown",
   "metadata": {},
   "source": [
    "## Ejemplos"
   ]
  },
  {
   "cell_type": "code",
   "execution_count": 1,
   "metadata": {},
   "outputs": [],
   "source": [
    "a, b = 7, 10"
   ]
  },
  {
   "cell_type": "markdown",
   "metadata": {},
   "source": [
    "### Operador ternario básico"
   ]
  },
  {
   "cell_type": "code",
   "execution_count": 2,
   "metadata": {},
   "outputs": [
    {
     "name": "stdout",
     "output_type": "stream",
     "text": [
      "Menor\n"
     ]
    }
   ],
   "source": [
    "x = \"Mayor\" if a > b else \"Menor\"\n",
    "print(x)"
   ]
  },
  {
   "cell_type": "markdown",
   "metadata": {},
   "source": [
    "El operador ternario de arriba simplifica en el siguiente bloque:"
   ]
  },
  {
   "cell_type": "code",
   "execution_count": 3,
   "metadata": {},
   "outputs": [
    {
     "name": "stdout",
     "output_type": "stream",
     "text": [
      "Menor\n"
     ]
    }
   ],
   "source": [
    "if a > b:\n",
    "    x = \"Mayor\"\n",
    "    print(x)\n",
    "else:\n",
    "    x = \"Menor\"\n",
    "    print(x)"
   ]
  },
  {
   "cell_type": "markdown",
   "metadata": {},
   "source": [
    "### Utilizando una expresión lambda"
   ]
  },
  {
   "cell_type": "markdown",
   "metadata": {},
   "source": [
    "Este ejemplo arroja un aviso porque el PEP8 [no recomienda](https://pep8.org/#programming-recommendations) el uso de lambda, sino la declaración de una función en una sola línea."
   ]
  },
  {
   "cell_type": "code",
   "execution_count": 4,
   "metadata": {},
   "outputs": [
    {
     "data": {
      "text/plain": [
       "'Menor'"
      ]
     },
     "execution_count": 4,
     "metadata": {},
     "output_type": "execute_result"
    }
   ],
   "source": [
    "x = lambda: \"Mayor\" if a > b else \"Menor\"\n",
    "\n",
    "x()"
   ]
  },
  {
   "cell_type": "markdown",
   "metadata": {},
   "source": [
    "### Utilizando una función en una sola línea"
   ]
  },
  {
   "cell_type": "code",
   "execution_count": 5,
   "metadata": {},
   "outputs": [
    {
     "data": {
      "text/plain": [
       "'Menor'"
      ]
     },
     "execution_count": 5,
     "metadata": {},
     "output_type": "execute_result"
    }
   ],
   "source": [
    "def x(a, b): return \"Mayor\" if a > b else \"Menor\"\n",
    "\n",
    "x(a, b)"
   ]
  },
  {
   "cell_type": "markdown",
   "metadata": {},
   "source": [
    "En ambos casos, con la expresión lambda y la función en una sola línea, evitas escribir el siguiente bloque:"
   ]
  },
  {
   "cell_type": "code",
   "execution_count": 6,
   "metadata": {},
   "outputs": [
    {
     "name": "stdout",
     "output_type": "stream",
     "text": [
      "Menor\n"
     ]
    }
   ],
   "source": [
    "def x(a, b):\n",
    "    if a > b:\n",
    "        x = \"Mayor\"\n",
    "        print(x)\n",
    "    else:\n",
    "        x = \"Menor\"\n",
    "        print(x)\n",
    "\n",
    "\n",
    "x(a, b)"
   ]
  },
  {
   "cell_type": "markdown",
   "metadata": {},
   "source": [
    "### Ejecutar una u otra función según la condición"
   ]
  },
  {
   "cell_type": "code",
   "execution_count": 7,
   "metadata": {},
   "outputs": [
    {
     "name": "stdout",
     "output_type": "stream",
     "text": [
      "La condición es falsa: A no es mayor que B.\n"
     ]
    }
   ],
   "source": [
    "def isTrue():\n",
    "    print(\"La condición es verdadera: A es mayor que B.\")\n",
    "\n",
    "\n",
    "def isFalse():\n",
    "    print(\"La condición es falsa: A no es mayor que B.\")\n",
    "\n",
    "\n",
    "isTrue() if a > b else isFalse()"
   ]
  },
  {
   "cell_type": "markdown",
   "metadata": {},
   "source": [
    "## Lecturas recomendas"
   ]
  },
  {
   "cell_type": "markdown",
   "metadata": {},
   "source": [
    "- [[Python-Dev] Conditional Expression Resolution](https://mail.python.org/pipermail/python-dev/2005-September/056846.html).\n",
    "- [6.12. Conditional expressions](https://docs.python.org/3/reference/expressions.html#conditional-expressions) (The Python Language Reference).\n",
    "- [PEP 308 -- Conditional Expressions](https://www.python.org/dev/peps/pep-0308/) (Python Enhancement Proposals).\n",
    "- [Is there an equivalent of C’s ”?:” ternary operator?](https://docs.python.org/3.3/faq/programming.html#is-there-an-equivalent-of-c-s-ternary-operator) (Python Frequently Asked Questions).\n",
    "- [Píldora: Operador ternario en Python y en C (con ejemplos)](https://poesiabinaria.net/2017/11/pildora-operador-ternario-python-c-ejemplos/). Lectura interesante porque se compara con el funcionamiento en C y da bastantes ejemplos de cómo se puede utilizar el ternario en Python.\n",
    "- [Does Python have a ternary conditional operator?](https://stackoverflow.com/a/394814/473597) (StackOverflow)."
   ]
  },
  {
   "cell_type": "markdown",
   "metadata": {},
   "source": [
    "## Licencia"
   ]
  },
  {
   "cell_type": "markdown",
   "metadata": {},
   "source": [
    "Esta notebook es parte del repositorio [``Cookbook``](https://github.com/ivanhercaz/cookbook), compilado y desarrollado por [Iván Hernández Cazorla](https://ivanhercaz.com) (ivanhercaz). Tanto el repositorio como esta notebook están bajo la licencia GNU General Public License v3.0. Siéntete libre de usar, modificar y distribuir esta o cualquier otra notebook de este repositorio, respetando siempre su autoría, tanto la de su creador como la de los colaboradores, es decir, quienes han modificado una notebook."
   ]
  },
  {
   "cell_type": "markdown",
   "metadata": {},
   "source": [
    "### Autores"
   ]
  },
  {
   "cell_type": "markdown",
   "metadata": {},
   "source": [
    "- Iván Hernández Cazorla (ivanhercaz).\n",
    "\n",
    "¿Has modificado esta notebook? ¡Añádete en esta lista! El formato a seguir es:\n",
    "\n",
    "```markdown\n",
    "- [Nombre, nombre-apellidos o pseudónimo](https://url.sitio.web.personal) ([pseudónimo en GitHub](https://github.com/nombredeusuario))\n",
    "```"
   ]
  }
 ],
 "metadata": {
  "kernelspec": {
   "display_name": "Python 3",
   "language": "python",
   "name": "python3"
  },
  "language_info": {
   "codemirror_mode": {
    "name": "ipython",
    "version": 3
   },
   "file_extension": ".py",
   "mimetype": "text/x-python",
   "name": "python",
   "nbconvert_exporter": "python",
   "pygments_lexer": "ipython3",
   "version": "3.5.3"
  }
 },
 "nbformat": 4,
 "nbformat_minor": 2
}
